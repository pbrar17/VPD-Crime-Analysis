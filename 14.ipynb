{
 "cells": [
  {
   "cell_type": "markdown",
   "id": "bf57e9a6",
   "metadata": {},
   "source": [
    "                                                                             Pahul Brar, Damien Fung, Steve Kim, Rafi Meher"
   ]
  },
  {
   "cell_type": "markdown",
   "id": "05ff10d4",
   "metadata": {},
   "source": [
    "# Taking a look at Vehicular/Pedestrian accidents in the neighbourhoods of Vancouver"
   ]
  },
  {
   "cell_type": "markdown",
   "id": "b840463e-cf66-4019-be8a-a3cfe59af255",
   "metadata": {},
   "source": [
    "## Introduction:"
   ]
  },
  {
   "cell_type": "markdown",
   "id": "7d231cd9-41f4-402f-ab9c-7b35e5edf22a",
   "metadata": {},
   "source": [
    "Pedestrians are some of the most vulnerable users of roadways. On average, in British Columbia, around 50 pedestrians are killed and 2,400 are injured in around 2,700 crashes every year, based on a five-year average of data collected by ICBC between 2016 and 2020 (ICBC, 2021).​​ Nearly half of these deaths occur between October and January, likely due to decreased daylight and poor weather conditions. Governments and law enforcement are using various safety campaigns to try and deal with these issues, it is possible that more can be done to reduce pedestrian deaths in key regions in Metro Vancouver. \n",
    " \n",
    "The question understudy for our project is: \"Are certain neighbourhoods more prone to vehicle collisions in the City of Vancouver?\" The dataset we are planning on using was made available to us by the VPD, and it contains information on all crimes committed from 2003 to 2022 (VPD, 2022). We intend to look at neighbourhood-specific data across the city and we will specifically look at the “Vehicle Collision or Pedestrian Struck with Fatality” and “Vehicle Collision or Pedestrian Struck with Injury” related data. While the data values include both vehicle-to-vehicle collisions and pedestrian/cyclist strikes together, the description notes that vehicle-to-vehicle incidents are fewer in number when compared to the overall data set. We want to see if there is any discernible pattern for the neighbourhoods that have higher collision rates, such as if the neighbourhoods have lower government funding, lower socioeconomic status, or if collision rates are more evenly spread.\n",
    " \n",
    "An article by Sarah Fecht in Scientific American that looked into road designs in Montreal found that “traffic injuries are four to six times higher in low-income areas of Montreal, compared with wealthy neighbourhoods” (Fecht, 2012). Fecht notes that there may be “many explanations for social inequalities in traffic injuries, including differences in the prevalence of drunk driving, use of helmets and safety restraints, and driving speeds”. However, citing a 2011 study on the influence of traffic volume and road design (Morency et al., 2012), Fetch suggests that “street environment” may also carry a large part of the blame”. As this would be a serious concern that could be mitigated through direct intervention, we wanted to further explore whether this may also be occurring in Vancouver as well.\n",
    " \n",
    " We plan on using the proportion of Vehicular/Pedestartain accidents compared to all other crimes in that neighbourhood, to approach this question. Looking at the proportion will help us weed out outliers, that way we are only looking at the neighbourhood that has a significantly higher number of Pedestrian/Vehicular accidents per all the crimes reported. We will also be drawing 95% Confidence Intervals for each proportion for better results. The 95CI will help us be more confident in our answers."
   ]
  },
  {
   "cell_type": "markdown",
   "id": "461ea026-725f-4dae-b99a-ca41ddcebd85",
   "metadata": {},
   "source": [
    "## Preliminary Results: "
   ]
  },
  {
   "cell_type": "code",
   "execution_count": null,
   "id": "96305eb8",
   "metadata": {
    "vscode": {
     "languageId": "r"
    }
   },
   "outputs": [],
   "source": [
    "set.seed(1)\n",
    "library(dplyr)\n",
    "library(tidyverse)\n",
    "library(infer)"
   ]
  },
  {
   "cell_type": "code",
   "execution_count": null,
   "id": "54c85c7f",
   "metadata": {
    "vscode": {
     "languageId": "r"
    }
   },
   "outputs": [],
   "source": [
    "whole_dataset <- read_csv(\"https://raw.githubusercontent.com/pbrar17/group_14/main/crime_data.csv\") %>%\n",
    "    filter(!is.na(NEIGHBOURHOOD))\n",
    "\n",
    "whole_dataset <- select(whole_dataset, TYPE, NEIGHBOURHOOD) %>%\n",
    "    group_by(NEIGHBOURHOOD)\n",
    "\n",
    "head(whole_dataset)\n",
    "\n",
    "\n",
    "crime_dist_neighbours <- whole_dataset %>% \n",
    "    ggplot(aes(x = NEIGHBOURHOOD, fill = TYPE)) + \n",
    "    geom_histogram(stat = \"count\" , alpha=0.8)+\n",
    "    xlab(\"Neighbourhood\") +\n",
    "    ylab(\"Count\") +\n",
    "    ggtitle(\"Crime distribution of All Crimes of policed neighbourhoods\") +\n",
    "    coord_flip() +\n",
    "    scale_fill_brewer()\n",
    "    \n",
    "crime_dist_neighbours\n",
    "\n",
    "\n",
    "mean_crime_rate <- whole_dataset %>%\n",
    "    ungroup() %>%\n",
    "    summarize(mean_crime_rate = (length(TYPE)/ length(unique(NEIGHBOURHOOD))))\n",
    "\n",
    "mean_crime_rate \n",
    "#This is the \"mean\" crime rate per neighbourhood policed."
   ]
  },
  {
   "cell_type": "code",
   "execution_count": null,
   "id": "e8464b23",
   "metadata": {
    "vscode": {
     "languageId": "r"
    }
   },
   "outputs": [],
   "source": [
    "limited_dataset <- select(whole_dataset, TYPE, NEIGHBOURHOOD) %>%\n",
    "    group_by(NEIGHBOURHOOD) %>% \n",
    "    filter(TYPE == \"Vehicle Collision or Pedestrian Struck (with Injury)\" | \n",
    "    TYPE == \"Vehicle Collision or Pedestrian Struck (with Fatality)\")\n",
    "head(limited_dataset)\n",
    "\n",
    "options(repr.plot.width = 10, repr.plot.height = 10)\n",
    "vehicular_ped_dist <- limited_dataset %>% \n",
    "    ggplot(aes(x = NEIGHBOURHOOD)) + \n",
    "    geom_histogram(stat = \"count\", fill = \"#00abff\", alpha=0.5)+\n",
    "    xlab(\"Neighbourhood\") +\n",
    "    ylab(\"Count\") +\n",
    "    ggtitle(\"Crime distribution of Vehicular/Pedesterain accidents of policed neighbourhoods\") +\n",
    "    coord_flip()\n",
    "vehicular_ped_dist\n",
    "\n",
    "mean_vehicle_crime_rate <- length(limited_dataset$TYPE) / length(unique(limited_dataset$NEIGHBOURHOOD))\n",
    "mean_vehicle_crime_rate \n",
    "#This is the \"mean\" Vehicle/Pedestrian crime rate per neighbourhood policed."
   ]
  },
  {
   "cell_type": "markdown",
   "id": "8bbb6186-481e-453c-a511-a60a981c04ec",
   "metadata": {},
   "source": [
    "## Methods: Plan"
   ]
  },
  {
   "cell_type": "markdown",
   "id": "00c15042",
   "metadata": {},
   "source": [
    "As our source data was obtained through the official government database, our analysis is representative of the true population and is relatively unbiased. While some types of crime may often go unreported (Baumer & Lauritsen, 2010), we feel that vehicle collisions are more often reported to police and insurance agencies, and thus this data is reasonably representative. The reproducibility of our results will also ensure that our conclusions are trustworthy and reliable.\n",
    " \n",
    "However, these results will not be sufficient for a stakeholder and a more thorough analysis will be required. We plan to perform statistical testing, through Pearson's Chi-Squared test at a 95% confidence interval, as we develop our project. \n",
    "Namely:\n",
    "\n",
    "$H_0:$ Vehical/pedestrian accidents for all neighbourhoods occur at the same rate to one another\n",
    "\n",
    "$H_A:$ Vehical/pedestrian accidents for all neighbourhoods do not occur at the same rate to one another\n",
    " \n",
    "Through our preliminary results, we expect to reject $H_0$ at a 5% significance level as the Central Business District has a far higher rate of accidents compared to all other neighbourhoods.\n",
    "\t\n",
    "We expect to get a better understanding of how our current road designs are affecting collision rates in the city. These results can help city planners determine if certain neighbourhoods require additional safety infrastructure in addition to determining which areas require additional resources to reduce collision rates immediately. This information may also motivate the City of Vancouver to prioritize renewal plans for older areas and “poorer” areas of the city. This information could also be used by researchers developing self-driving technologies to reduce the chance of the vehicle being involved in such an incident. Furthermore, this project may lead to further questions on other factors that also increase the likelihood of vehicle collisions, such as specific weather or daylight conditions. This would account for a possible confounding variable.\n"
   ]
  },
  {
   "cell_type": "code",
   "execution_count": null,
   "id": "d7918914",
   "metadata": {
    "vscode": {
     "languageId": "r"
    }
   },
   "outputs": [],
   "source": [
    "#Results:\n",
    "mean_crime <- whole_dataset %>%\n",
    "    group_by(NEIGHBOURHOOD) %>%\n",
    "    summarize(n = length(TYPE), prop = mean(TYPE == \"Vehicle Collision or Pedestrian Struck (with Injury)\" | \n",
    "    TYPE == \"Vehicle Collision or Pedestrian Struck (with Fatality)\"))\n",
    "mean_crime"
   ]
  },
  {
   "cell_type": "code",
   "execution_count": null,
   "id": "c319361a",
   "metadata": {
    "vscode": {
     "languageId": "r"
    }
   },
   "outputs": [],
   "source": [
    "#95% CI\n",
    "#We already have the sample proprotions calculated above, thus we can use them as p-hat\n",
    "standard_error = mean_crime %>%\n",
    "    mutate(se_p = sqrt((prop*(1-prop))/n))\n",
    "head(standard_error)"
   ]
  },
  {
   "cell_type": "code",
   "execution_count": null,
   "id": "9f1cc65a",
   "metadata": {
    "vscode": {
     "languageId": "r"
    }
   },
   "outputs": [],
   "source": [
    "#margin_of_error\n",
    "margin_error = standard_error %>%\n",
    "    mutate(me = 1.96 * se_p)\n",
    "head(margin_error)\n",
    "#We used 1.96 as its the z-score for 95% ci"
   ]
  },
  {
   "cell_type": "code",
   "execution_count": null,
   "id": "f872c305",
   "metadata": {
    "vscode": {
     "languageId": "r"
    }
   },
   "outputs": [],
   "source": [
    "#both endpoints\n",
    "endpoints = margin_error %>%\n",
    "    mutate(lower_endpoint = prop - me, upper_endpoint = prop + me) %>%\n",
    "    select(-se_p, -me,-n)\n",
    "endpoints\n",
    "#below are the 95%CI for the true proportion value."
   ]
  },
  {
   "cell_type": "code",
   "execution_count": null,
   "id": "9699335f",
   "metadata": {
    "vscode": {
     "languageId": "r"
    }
   },
   "outputs": [],
   "source": [
    "mean_prop = endpoints %>%\n",
    "    summarize(mean = mean(prop))\n",
    "mean_prop\n",
    "options(repr.plot.width = 10, repr.plot.height = 10)\n",
    "graph <- endpoints %>%\n",
    "    ggplot(aes(x = NEIGHBOURHOOD, y = prop))+\n",
    "    geom_bar(stat = \"identity\", fill = \"#00abff\", alpha=0.5)+\n",
    "    xlab(\"Neighbourhood\") +\n",
    "    ylab(\"Proportion\") +\n",
    "    ggtitle(\"Distribution of Vehicular/Pedesterain accidents proportion per all crime of policed neighbourhoods\") +\n",
    "    coord_flip() +\n",
    "    geom_hline(yintercept=mean_prop$mean, linetype = \"solid\", colour = \"#F8766D\", alpha=0.7)\n",
    "graph\n",
    "#As you can see, while the mean of all the proportions is 0l04490974, and while most neighbourhoods are close to it, there are a\n",
    "#few outliers, and the cause of these has to be determined so we can help make it more even across all neighbourhoods in Vancouver."
   ]
  },
  {
   "cell_type": "code",
   "execution_count": null,
   "id": "78bea561",
   "metadata": {
    "vscode": {
     "languageId": "r"
    }
   },
   "outputs": [],
   "source": [
    "print(\"Neighbourhood with highest proportion\")\n",
    "slice_max(endpoints, prop)\n",
    "#Shaughnessy is the neighboruhood with the highest proportion of Vehicualr/Pedestarian Accidents compared to all crimes reported.\n",
    "\n",
    "print(\"Neighbourhood with lowest proportion\")\n",
    "slice_min(endpoints, prop)\n",
    "#The Central Business District is the neighboruhood with the lowest proportion of Vehicualr/Pedestarian Accidents compared to all crimes reported."
   ]
  },
  {
   "cell_type": "markdown",
   "id": "50542bbf",
   "metadata": {},
   "source": [
    "It appears as if Shaughnessy has the highest proportion of Vehicle Collision or Pedestrian Struck (with Injury/Fatality) compared to all crime that was reported in that neighbourhood. The true proportion value as estimated by our sample is 0.08799878, with a 95% CI ranging from 0.08090975 to 0.09308782.\n",
    "\n",
    "Also, It appears as if the Central Businesss District has the lowest proportion of Vehicle Collision or Pedestrian Struck (with Injury/Fatality) compared to all crime that was reported in that neighbourhood. The true proportion value as estimated by our sample is 0.01885144, with a 95% CI ranging from 0.01827979 to 0.01942309."
   ]
  },
  {
   "cell_type": "markdown",
   "id": "dc33013a",
   "metadata": {},
   "source": [
    "To verify our intuition, we perform Pearson's Chi Squared Test. From the above cells, we know that the expected value ($E_k$) / mean ($\\mu$) frequency is approximately 1153. Now we can compute the Chi Squared test statistic \n",
    "${\\chi}^2=\\sum_{k=1}^{n} \\frac{(O_k - E_k)^2}{E_k} \\sim {\\chi}^2_{k-1}$ \n",
    "Where k is the number of categories (neighbourhoods), and n is the number of observations\n",
    "\n",
    "The following cells demonstrate the full process of the Pearson's Chi Squared Test"
   ]
  },
  {
   "cell_type": "markdown",
   "id": "da33c80e",
   "metadata": {},
   "source": [
    "In this cell, we compute the number of categories $k$ (in this case, the categories are the number of neighbourhoods) and the number of observations $n$"
   ]
  },
  {
   "cell_type": "code",
   "execution_count": null,
   "id": "d97ff304",
   "metadata": {
    "vscode": {
     "languageId": "r"
    }
   },
   "outputs": [],
   "source": [
    "count_crime <- limited_dataset %>%\n",
    "    group_by(NEIGHBOURHOOD) %>%\n",
    "    count(NEIGHBOURHOOD) %>%\n",
    "    pull(n) # turn column into vector for easier computations\n",
    "#This is the observed number of crimes reported in each neighbourhood in question\n",
    "\n",
    "k <- length(count_crime) \n",
    "# This is the number of neighbourhoods."
   ]
  },
  {
   "cell_type": "markdown",
   "id": "0bb3db45",
   "metadata": {},
   "source": [
    "Now, we have all the necessary information to compute the Chi-Squared test statistic $\\chi^2$. "
   ]
  },
  {
   "cell_type": "code",
   "execution_count": null,
   "id": "f2ff73c0",
   "metadata": {
    "vscode": {
     "languageId": "r"
    }
   },
   "outputs": [],
   "source": [
    "test_stat <- 0\n",
    "for (o in count_crime) { # summation function to obtain the Chi-Squared test statistic is achieved through a basic for-each loop\n",
    "    test_stat = test_stat + (o - mean_vehicle_crime_rate)^2/mean_vehicle_crime_rate\n",
    "}\n",
    "test_stat"
   ]
  },
  {
   "cell_type": "markdown",
   "id": "05730af7",
   "metadata": {},
   "source": [
    "As the test statistic has an extremely high value, we can infer that the p-value will be negligibly small, to confirm this intuition, we can use the `pchisq()` function with $k-1$ degrees of freedom"
   ]
  },
  {
   "cell_type": "code",
   "execution_count": null,
   "id": "18750577",
   "metadata": {
    "vscode": {
     "languageId": "r"
    }
   },
   "outputs": [],
   "source": [
    "p_value <- pchisq(test_stat, k-1, lower.tail = FALSE)\n",
    "p_value"
   ]
  },
  {
   "cell_type": "markdown",
   "id": "49a2bf7c",
   "metadata": {},
   "source": [
    "For a sanity check we can use the `chisq.test()` function"
   ]
  },
  {
   "cell_type": "code",
   "execution_count": null,
   "id": "e0506ae2",
   "metadata": {
    "vscode": {
     "languageId": "r"
    }
   },
   "outputs": [],
   "source": [
    "chisq.test(count_crime)"
   ]
  },
  {
   "cell_type": "code",
   "execution_count": null,
   "id": "eccab67a",
   "metadata": {
    "vscode": {
     "languageId": "r"
    }
   },
   "outputs": [],
   "source": [
    "chisq.test(count_crime)"
   ]
  },
  {
   "cell_type": "markdown",
   "id": "99faad3c",
   "metadata": {},
   "source": [
    "Since our P-value is negligibly small ($<2.2\\cdot10^{-16}\\approx 0$), we know it is also less than $0.05$, thus we can reject the null hypothesis at a $5\\%$ significant level in favour of the alternative hypothesis that vehical/pedestrian accidents for all neighbourhoods do not occur at the same rate to one another. This implies that certain neighbourhoods have higher rates of vehical/pedestrial accidents compared to others."
   ]
  },
  {
   "cell_type": "markdown",
   "id": "a8e62539-954b-4cf8-b984-80e03867c346",
   "metadata": {},
   "source": [
    "## Discussion"
   ]
  },
  {
   "cell_type": "markdown",
   "id": "f7fe3716-b87f-43e1-a3e8-44dd8d7daec5",
   "metadata": {},
   "source": [
    "As one can see from our results, we have an incredibly small P-value. This means that our data is overwhelmingly in favour of our alternative hypothesis, which was that \"vehicle/pedestrian accidents for all neighbourhoods do not occur at the same rate”. As we have determined that the Shaughnessy neighbourhood has the highest proportion of Vehicle Collision or Pedestrian Struck (with Injury/Fatality) compared to all crime that was reported in that neighbourhood, and the Central Business District showed the lowest proportion."
   ]
  },
  {
   "cell_type": "markdown",
   "id": "2e820a60",
   "metadata": {},
   "source": [
    "Thus there are some neighbourhoods where vehicle/pedestrian accidents occur at higher rates, possibly due to an external factor that can be controlled, such as the lack of crosswalks and additional road safety infrastructure, or the lack of policing that may encourage recklessness. The causes could be many different things but the effect endangers the life of humans, and more work needs to be done on making neighbourhoods like Shaughnessy safer. This first step now opens the door to other studies that can look at what those causes may be, and push for possible solutions, before this problem becomes any bigger or more dangerous. Getting ahead of the curve is necessary, and these small issues could become disastrous if left unchecked."
   ]
  },
  {
   "cell_type": "markdown",
   "id": "0cef2235",
   "metadata": {},
   "source": [
    "However, our analysis does not answer a broad scope of questions, but rather opens the door to this ever-worsening epidemic. The aim of this analysis was to guide future studies so we may determine any discernible pattern for the neighbourhoods that have higher collision rates. While we may not have been able to determine that we have successfully determined that there is a difference in the proportion of Vehicualar/Pedestarian Accidents depending on the neighbourhood, it is up to future studies to go deeper into this, and look determine the reasons for this difference. A question like \"are the neighbourhoods that have a higher rate of vehicle/pedestrian accidents more socioeconomically disadvantaged\" would have to be carried out in a separate study. Our study simply implies that there are indeed some heavy outliers and variations in vehicle/pedestrian accidents between the cities of Vancouver. Regardless, assuming that higher rates of vehicle/pedestrian accidents are correlated to lower socioeconomic neighbourhoods then our calculations done in our methods may serve as a guide to see which neighbourhoods may need the most help. "
   ]
  },
  {
   "cell_type": "markdown",
   "id": "f7c0ef3e",
   "metadata": {},
   "source": [
    "A few potential sources of information for socioeconomic data include the 2021 Statistics Canada Census data (Statistics Canada, 2022) and recent Vancouver property tax assessment datasets (City of Vancouver & BC Assessment, 2022).  The City of Vancouver records may also contain information about the types of infrastructure and traffic control technologies deployed around the city. For example, future studies can see if neighbourhoods with more roundabout intersections have higher or lower accident rates (Mamlouk & Souliman, 2019). Similarly, the Transportation Data Collection Program data may provide other insight into congestion-related issues (City of Vancouver, 2022)."
   ]
  },
  {
   "cell_type": "markdown",
   "id": "768159e2-0045-4fba-810e-50dd1062c251",
   "metadata": {},
   "source": [
    "Additionally, the results found in our study were not very surprising considering that there are many outside factors and randomness that go into vehicle/pedestrian accidents and where they happen. Our results are in line with what we were expecting to find. However, our results show that something must indeed be done to further lower these accidents rates, especially in those neighbourhoods with especially high rates. Future studies will also guide how we may go about lowering the rates, which may involve finding factors to the commonness of these specific accidents. The number of factors that could potentially exist number more than we can talk about in our analysis, and we leave it up to another to pick up our torch and carry it on. "
   ]
  },
  {
   "cell_type": "markdown",
   "id": "99ca1105-3fd1-4296-8507-bec2106a7875",
   "metadata": {},
   "source": [
    "## References:"
   ]
  },
  {
   "cell_type": "markdown",
   "id": "7c963130",
   "metadata": {},
   "source": [
    "Baumer, E. P., & Lauritsen, J. L. (2010). Reporting Crime to the Police, 1973–2005: A Multivariate Analysis of Long-Term Trends in the National Crime Survey (ncs) and National Crime Victimization Survey (ncvs)*. Criminology, 48(1), 131–185. https://doi.org/10.1111/j.1745-9125.2010.00182.x\n",
    "\n",
    "City of Vancouver. (2022). Transportation Data Collection Program. https://vancouver.ca/streets-transportation/traffic-count-data.aspx\n",
    "\n",
    "City of Vancouver, & BC Assessment. (2022). Property tax report 2020 [Data set]. Finance, Risk and Supply Chain Management - Revenue Services. https://opendata.vancouver.ca/explore/dataset/property-tax-report/information/\n",
    "\n",
    "Fecht, S. (2012, May 3). Accident-Zone: Poorer Neighborhoods Have Less-Safe Road Designs. Scientific American. https://www.scientificamerican.com/article/accident-zone-poorer-neighborhoods/\n",
    "\n",
    "ICBC. (2021, October 19). ICBC warns about seasonal spike in pedestrian crashes. https://www.icbc.com:443/about-icbc/newsroom/Pages/2021-oct19.aspx\n",
    "\n",
    "Mamlouk, M., & Souliman, B. (2019). Effect of traffic roundabouts on accident rate and severity in Arizona. Journal of Transportation Safety & Security, 11(4), 430–442. https://doi.org/10.1080/19439962.2018.1452812\n",
    "\n",
    "Morency, P., Gauvin, L., Plante, C., Fournier, M., & Morency, C. (2012). Neighborhood Social Inequalities in Road Traffic Injuries: The Influence of Traffic Volume and Road Design. American Journal of Public Health, 102(6), 1112–1119. https://doi.org/10.2105/AJPH.2011.300528\n",
    "\n",
    "Statistics Canada. (2022, February 9). Census Profile. 2021 Census of Population—Vancouver, City (CY). Statistics Canada Catalogue no. 98-316-X2021001. https://www12.statcan.gc.ca/census-recensement/2021/dp-pd/prof/index.cfm?Lang=E\n",
    "\n",
    "VPD. (2022). Vancouver Police Department Open Data. https://geodash.vpd.ca/opendata/#"
   ]
  },
  {
   "cell_type": "code",
   "execution_count": null,
   "id": "d7bd6650",
   "metadata": {
    "vscode": {
     "languageId": "r"
    }
   },
   "outputs": [],
   "source": [
    "\"Hello_World!\""
   ]
  }
 ],
 "metadata": {
  "kernelspec": {
   "display_name": "R",
   "language": "R",
   "name": "ir"
  },
  "language_info": {
   "codemirror_mode": "r",
   "file_extension": ".r",
   "mimetype": "text/x-r-source",
   "name": "R",
   "pygments_lexer": "r",
   "version": "4.0.5"
  }
 },
 "nbformat": 4,
 "nbformat_minor": 5
}
