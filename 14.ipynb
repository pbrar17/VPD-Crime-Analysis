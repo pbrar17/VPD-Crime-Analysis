{
 "cells": [
  {
   "cell_type": "markdown",
   "id": "bf57e9a6",
   "metadata": {},
   "source": [
    "Title: Taking a look at Vehicular/Pedestrian accidents in the neighbourhoods of Vancouver"
   ]
  },
  {
   "cell_type": "markdown",
   "id": "93fa29dd",
   "metadata": {},
   "source": [
    "Introduction: The Question We are trying to answer is \"Are there certain neigbourhoods that are more prone to vehicle/pedestrian accidents than others, and does the time of year have any affect on this?\" We plan on using the mean and most likely the SD to narrow this down, as the mean will tell us the average that we are going to work with, and having as lower SD as possible would indicate that our mean is a good value to use, as the values are all clustered closer to it. And we would use the median and compare the mean with it to see if there are any outliers present that could be affecting our resutls, if there are than we would just use the median for everything if the outliers have a huge impact on it."
   ]
  },
  {
   "cell_type": "markdown",
   "id": "96305eb8",
   "metadata": {},
   "source": [
    "Preliminary Results:"
   ]
  },
  {
   "cell_type": "markdown",
   "id": "a7f42b0f",
   "metadata": {},
   "source": [
    "Methods:Plan"
   ]
  },
  {
   "cell_type": "markdown",
   "id": "1015ad23",
   "metadata": {},
   "source": [
    "References:"
   ]
  },
  {
   "cell_type": "code",
   "execution_count": 3,
   "id": "54c85c7f",
   "metadata": {},
   "outputs": [
    {
     "name": "stdout",
     "output_type": "stream",
     "text": [
      "\n",
      "The downloaded binary packages are in\n",
      "\t/var/folders/pv/20ft3yp91ml1chtyjtpmhtqh0000gn/T//RtmpVkX6Sb/downloaded_packages\n"
     ]
    }
   ],
   "source": [
    "set.seed(1)\n",
    "install.packages(\"tidyverse\")\n",
    "library(tidyverse)"
   ]
  },
  {
   "cell_type": "code",
   "execution_count": 5,
   "id": "98725403",
   "metadata": {},
   "outputs": [],
   "source": [
    "crime = read.csv(\"crime_data.csv\")"
   ]
  },
  {
   "cell_type": "code",
   "execution_count": 6,
   "metadata": {},
   "outputs": [
    {
     "data": {
      "text/html": [
       "<table class=\"dataframe\">\n",
       "<caption>A data.frame: 6 × 10</caption>\n",
       "<thead>\n",
       "\t<tr><th></th><th scope=col>TYPE</th><th scope=col>YEAR</th><th scope=col>MONTH</th><th scope=col>DAY</th><th scope=col>HOUR</th><th scope=col>MINUTE</th><th scope=col>HUNDRED_BLOCK</th><th scope=col>NEIGHBOURHOOD</th><th scope=col>X</th><th scope=col>Y</th></tr>\n",
       "\t<tr><th></th><th scope=col>&lt;chr&gt;</th><th scope=col>&lt;int&gt;</th><th scope=col>&lt;int&gt;</th><th scope=col>&lt;int&gt;</th><th scope=col>&lt;int&gt;</th><th scope=col>&lt;int&gt;</th><th scope=col>&lt;chr&gt;</th><th scope=col>&lt;chr&gt;</th><th scope=col>&lt;dbl&gt;</th><th scope=col>&lt;dbl&gt;</th></tr>\n",
       "</thead>\n",
       "<tbody>\n",
       "\t<tr><th scope=row>1</th><td>Break and Enter Commercial</td><td>2012</td><td>12</td><td>14</td><td> 8</td><td>52</td><td>               </td><td>Oakridge</td><td>491285.0</td><td>5453433</td></tr>\n",
       "\t<tr><th scope=row>2</th><td>Break and Enter Commercial</td><td>2019</td><td> 3</td><td> 7</td><td> 2</td><td> 6</td><td>10XX SITKA SQ  </td><td>Fairview</td><td>490613.0</td><td>5457110</td></tr>\n",
       "\t<tr><th scope=row>3</th><td>Break and Enter Commercial</td><td>2019</td><td> 8</td><td>27</td><td> 4</td><td>12</td><td>10XX ALBERNI ST</td><td>West End</td><td>491007.8</td><td>5459174</td></tr>\n",
       "\t<tr><th scope=row>4</th><td>Break and Enter Commercial</td><td>2021</td><td> 4</td><td>26</td><td> 4</td><td>44</td><td>10XX ALBERNI ST</td><td>West End</td><td>491007.8</td><td>5459174</td></tr>\n",
       "\t<tr><th scope=row>5</th><td>Break and Enter Commercial</td><td>2014</td><td> 8</td><td> 8</td><td> 5</td><td>13</td><td>10XX ALBERNI ST</td><td>West End</td><td>491015.9</td><td>5459166</td></tr>\n",
       "\t<tr><th scope=row>6</th><td>Break and Enter Commercial</td><td>2020</td><td> 7</td><td>28</td><td>19</td><td>12</td><td>10XX ALBERNI ST</td><td>West End</td><td>491015.9</td><td>5459166</td></tr>\n",
       "</tbody>\n",
       "</table>\n"
      ],
      "text/latex": [
       "A data.frame: 6 × 10\n",
       "\\begin{tabular}{r|llllllllll}\n",
       "  & TYPE & YEAR & MONTH & DAY & HOUR & MINUTE & HUNDRED\\_BLOCK & NEIGHBOURHOOD & X & Y\\\\\n",
       "  & <chr> & <int> & <int> & <int> & <int> & <int> & <chr> & <chr> & <dbl> & <dbl>\\\\\n",
       "\\hline\n",
       "\t1 & Break and Enter Commercial & 2012 & 12 & 14 &  8 & 52 &                 & Oakridge & 491285.0 & 5453433\\\\\n",
       "\t2 & Break and Enter Commercial & 2019 &  3 &  7 &  2 &  6 & 10XX SITKA SQ   & Fairview & 490613.0 & 5457110\\\\\n",
       "\t3 & Break and Enter Commercial & 2019 &  8 & 27 &  4 & 12 & 10XX ALBERNI ST & West End & 491007.8 & 5459174\\\\\n",
       "\t4 & Break and Enter Commercial & 2021 &  4 & 26 &  4 & 44 & 10XX ALBERNI ST & West End & 491007.8 & 5459174\\\\\n",
       "\t5 & Break and Enter Commercial & 2014 &  8 &  8 &  5 & 13 & 10XX ALBERNI ST & West End & 491015.9 & 5459166\\\\\n",
       "\t6 & Break and Enter Commercial & 2020 &  7 & 28 & 19 & 12 & 10XX ALBERNI ST & West End & 491015.9 & 5459166\\\\\n",
       "\\end{tabular}\n"
      ],
      "text/markdown": [
       "\n",
       "A data.frame: 6 × 10\n",
       "\n",
       "| <!--/--> | TYPE &lt;chr&gt; | YEAR &lt;int&gt; | MONTH &lt;int&gt; | DAY &lt;int&gt; | HOUR &lt;int&gt; | MINUTE &lt;int&gt; | HUNDRED_BLOCK &lt;chr&gt; | NEIGHBOURHOOD &lt;chr&gt; | X &lt;dbl&gt; | Y &lt;dbl&gt; |\n",
       "|---|---|---|---|---|---|---|---|---|---|---|\n",
       "| 1 | Break and Enter Commercial | 2012 | 12 | 14 |  8 | 52 | <!----> | Oakridge | 491285.0 | 5453433 |\n",
       "| 2 | Break and Enter Commercial | 2019 |  3 |  7 |  2 |  6 | 10XX SITKA SQ   | Fairview | 490613.0 | 5457110 |\n",
       "| 3 | Break and Enter Commercial | 2019 |  8 | 27 |  4 | 12 | 10XX ALBERNI ST | West End | 491007.8 | 5459174 |\n",
       "| 4 | Break and Enter Commercial | 2021 |  4 | 26 |  4 | 44 | 10XX ALBERNI ST | West End | 491007.8 | 5459174 |\n",
       "| 5 | Break and Enter Commercial | 2014 |  8 |  8 |  5 | 13 | 10XX ALBERNI ST | West End | 491015.9 | 5459166 |\n",
       "| 6 | Break and Enter Commercial | 2020 |  7 | 28 | 19 | 12 | 10XX ALBERNI ST | West End | 491015.9 | 5459166 |\n",
       "\n"
      ],
      "text/plain": [
       "  TYPE                       YEAR MONTH DAY HOUR MINUTE HUNDRED_BLOCK  \n",
       "1 Break and Enter Commercial 2012 12    14   8   52                    \n",
       "2 Break and Enter Commercial 2019  3     7   2    6     10XX SITKA SQ  \n",
       "3 Break and Enter Commercial 2019  8    27   4   12     10XX ALBERNI ST\n",
       "4 Break and Enter Commercial 2021  4    26   4   44     10XX ALBERNI ST\n",
       "5 Break and Enter Commercial 2014  8     8   5   13     10XX ALBERNI ST\n",
       "6 Break and Enter Commercial 2020  7    28  19   12     10XX ALBERNI ST\n",
       "  NEIGHBOURHOOD X        Y      \n",
       "1 Oakridge      491285.0 5453433\n",
       "2 Fairview      490613.0 5457110\n",
       "3 West End      491007.8 5459174\n",
       "4 West End      491007.8 5459174\n",
       "5 West End      491015.9 5459166\n",
       "6 West End      491015.9 5459166"
      ]
     },
     "metadata": {},
     "output_type": "display_data"
    },
    {
     "data": {
      "text/html": [
       "818120"
      ],
      "text/latex": [
       "818120"
      ],
      "text/markdown": [
       "818120"
      ],
      "text/plain": [
       "[1] 818120"
      ]
     },
     "metadata": {},
     "output_type": "display_data"
    }
   ],
   "source": [
    "head(crime)\n",
    "nrow(crime)"
   ]
  },
  {
   "cell_type": "code",
   "execution_count": 9,
   "id": "e5c5f125",
   "metadata": {},
   "outputs": [
    {
     "data": {
      "text/html": [
       "<table class=\"dataframe\">\n",
       "<caption>A grouped_df: 6 × 3</caption>\n",
       "<thead>\n",
       "\t<tr><th scope=col>YEAR</th><th scope=col>TYPE</th><th scope=col>NEIGHBOURHOOD</th></tr>\n",
       "\t<tr><th scope=col>&lt;int&gt;</th><th scope=col>&lt;chr&gt;</th><th scope=col>&lt;chr&gt;</th></tr>\n",
       "</thead>\n",
       "<tbody>\n",
       "\t<tr><td>2012</td><td>Break and Enter Commercial</td><td>Oakridge</td></tr>\n",
       "\t<tr><td>2019</td><td>Break and Enter Commercial</td><td>Fairview</td></tr>\n",
       "\t<tr><td>2019</td><td>Break and Enter Commercial</td><td>West End</td></tr>\n",
       "\t<tr><td>2021</td><td>Break and Enter Commercial</td><td>West End</td></tr>\n",
       "\t<tr><td>2014</td><td>Break and Enter Commercial</td><td>West End</td></tr>\n",
       "\t<tr><td>2020</td><td>Break and Enter Commercial</td><td>West End</td></tr>\n",
       "</tbody>\n",
       "</table>\n"
      ],
      "text/latex": [
       "A grouped\\_df: 6 × 3\n",
       "\\begin{tabular}{lll}\n",
       " YEAR & TYPE & NEIGHBOURHOOD\\\\\n",
       " <int> & <chr> & <chr>\\\\\n",
       "\\hline\n",
       "\t 2012 & Break and Enter Commercial & Oakridge\\\\\n",
       "\t 2019 & Break and Enter Commercial & Fairview\\\\\n",
       "\t 2019 & Break and Enter Commercial & West End\\\\\n",
       "\t 2021 & Break and Enter Commercial & West End\\\\\n",
       "\t 2014 & Break and Enter Commercial & West End\\\\\n",
       "\t 2020 & Break and Enter Commercial & West End\\\\\n",
       "\\end{tabular}\n"
      ],
      "text/markdown": [
       "\n",
       "A grouped_df: 6 × 3\n",
       "\n",
       "| YEAR &lt;int&gt; | TYPE &lt;chr&gt; | NEIGHBOURHOOD &lt;chr&gt; |\n",
       "|---|---|---|\n",
       "| 2012 | Break and Enter Commercial | Oakridge |\n",
       "| 2019 | Break and Enter Commercial | Fairview |\n",
       "| 2019 | Break and Enter Commercial | West End |\n",
       "| 2021 | Break and Enter Commercial | West End |\n",
       "| 2014 | Break and Enter Commercial | West End |\n",
       "| 2020 | Break and Enter Commercial | West End |\n",
       "\n"
      ],
      "text/plain": [
       "  YEAR TYPE                       NEIGHBOURHOOD\n",
       "1 2012 Break and Enter Commercial Oakridge     \n",
       "2 2019 Break and Enter Commercial Fairview     \n",
       "3 2019 Break and Enter Commercial West End     \n",
       "4 2021 Break and Enter Commercial West End     \n",
       "5 2014 Break and Enter Commercial West End     \n",
       "6 2020 Break and Enter Commercial West End     "
      ]
     },
     "metadata": {},
     "output_type": "display_data"
    },
    {
     "data": {
      "text/html": [
       "<table class=\"dataframe\">\n",
       "<caption>A grouped_df: 6 × 3</caption>\n",
       "<thead>\n",
       "\t<tr><th scope=col>YEAR</th><th scope=col>TYPE</th><th scope=col>NEIGHBOURHOOD</th></tr>\n",
       "\t<tr><th scope=col>&lt;int&gt;</th><th scope=col>&lt;chr&gt;</th><th scope=col>&lt;chr&gt;</th></tr>\n",
       "</thead>\n",
       "<tbody>\n",
       "\t<tr><td>2020</td><td>Vehicle Collision or Pedestrian Struck (with Injury)</td><td>Mount Pleasant</td></tr>\n",
       "\t<tr><td>2003</td><td>Vehicle Collision or Pedestrian Struck (with Injury)</td><td>Riley Park    </td></tr>\n",
       "\t<tr><td>2005</td><td>Vehicle Collision or Pedestrian Struck (with Injury)</td><td>Riley Park    </td></tr>\n",
       "\t<tr><td>2016</td><td>Vehicle Collision or Pedestrian Struck (with Injury)</td><td>Riley Park    </td></tr>\n",
       "\t<tr><td>2013</td><td>Vehicle Collision or Pedestrian Struck (with Injury)</td><td>Riley Park    </td></tr>\n",
       "\t<tr><td>2013</td><td>Vehicle Collision or Pedestrian Struck (with Injury)</td><td>Riley Park    </td></tr>\n",
       "</tbody>\n",
       "</table>\n"
      ],
      "text/latex": [
       "A grouped\\_df: 6 × 3\n",
       "\\begin{tabular}{lll}\n",
       " YEAR & TYPE & NEIGHBOURHOOD\\\\\n",
       " <int> & <chr> & <chr>\\\\\n",
       "\\hline\n",
       "\t 2020 & Vehicle Collision or Pedestrian Struck (with Injury) & Mount Pleasant\\\\\n",
       "\t 2003 & Vehicle Collision or Pedestrian Struck (with Injury) & Riley Park    \\\\\n",
       "\t 2005 & Vehicle Collision or Pedestrian Struck (with Injury) & Riley Park    \\\\\n",
       "\t 2016 & Vehicle Collision or Pedestrian Struck (with Injury) & Riley Park    \\\\\n",
       "\t 2013 & Vehicle Collision or Pedestrian Struck (with Injury) & Riley Park    \\\\\n",
       "\t 2013 & Vehicle Collision or Pedestrian Struck (with Injury) & Riley Park    \\\\\n",
       "\\end{tabular}\n"
      ],
      "text/markdown": [
       "\n",
       "A grouped_df: 6 × 3\n",
       "\n",
       "| YEAR &lt;int&gt; | TYPE &lt;chr&gt; | NEIGHBOURHOOD &lt;chr&gt; |\n",
       "|---|---|---|\n",
       "| 2020 | Vehicle Collision or Pedestrian Struck (with Injury) | Mount Pleasant |\n",
       "| 2003 | Vehicle Collision or Pedestrian Struck (with Injury) | Riley Park     |\n",
       "| 2005 | Vehicle Collision or Pedestrian Struck (with Injury) | Riley Park     |\n",
       "| 2016 | Vehicle Collision or Pedestrian Struck (with Injury) | Riley Park     |\n",
       "| 2013 | Vehicle Collision or Pedestrian Struck (with Injury) | Riley Park     |\n",
       "| 2013 | Vehicle Collision or Pedestrian Struck (with Injury) | Riley Park     |\n",
       "\n"
      ],
      "text/plain": [
       "  YEAR TYPE                                                 NEIGHBOURHOOD \n",
       "1 2020 Vehicle Collision or Pedestrian Struck (with Injury) Mount Pleasant\n",
       "2 2003 Vehicle Collision or Pedestrian Struck (with Injury) Riley Park    \n",
       "3 2005 Vehicle Collision or Pedestrian Struck (with Injury) Riley Park    \n",
       "4 2016 Vehicle Collision or Pedestrian Struck (with Injury) Riley Park    \n",
       "5 2013 Vehicle Collision or Pedestrian Struck (with Injury) Riley Park    \n",
       "6 2013 Vehicle Collision or Pedestrian Struck (with Injury) Riley Park    "
      ]
     },
     "metadata": {},
     "output_type": "display_data"
    }
   ],
   "source": [
    "selected_crime_data = select(crime, YEAR, TYPE, NEIGHBOURHOOD,) %>%\n",
    "    group_by(NEIGHBOURHOOD)\n",
    "head(selected_crime_data)\n",
    "tail(selected_crime_data)\n"
   ]
  },
  {
   "cell_type": "code",
   "execution_count": null,
   "id": "8de1b616",
   "metadata": {},
   "outputs": [
    {
     "data": {
      "text/html": [
       "'Hello_World!'"
      ],
      "text/latex": [
       "'Hello\\_World!'"
      ],
      "text/markdown": [
       "'Hello_World!'"
      ],
      "text/plain": [
       "[1] \"Hello_World!\""
      ]
     },
     "metadata": {},
     "output_type": "display_data"
    }
   ],
   "source": [
    "\"Hello_World!\""
   ]
  },
  {
   "cell_type": "markdown",
   "id": "7306aa12",
   "metadata": {},
   "source": []
  }
 ],
 "metadata": {
  "kernelspec": {
   "display_name": "R",
   "language": "R",
   "name": "ir"
  },
  "language_info": {
   "codemirror_mode": "r",
   "file_extension": ".r",
   "mimetype": "text/x-r-source",
   "name": "R",
   "pygments_lexer": "r",
   "version": "4.1.2"
  }
 },
 "nbformat": 4,
 "nbformat_minor": 5
}
